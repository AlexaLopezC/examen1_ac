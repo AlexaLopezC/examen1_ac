{
 "cells": [
  {
   "cell_type": "markdown",
   "metadata": {},
   "source": [
    "# **EVALUACIÓN 1**\n",
    "\n",
    "### **Integrantes:**\n",
    "\n",
    "- Edwin Leon\n",
    "- Herlis de Alba Diaz\n",
    "- Kelly Guerrero \n",
    "- Alexandra López\n"
   ]
  },
  {
   "cell_type": "markdown",
   "metadata": {},
   "source": [
    "**PUNTO 1:** Conjunto de datos data1"
   ]
  },
  {
   "cell_type": "code",
   "execution_count": null,
   "metadata": {},
   "outputs": [],
   "source": []
  }
 ],
 "metadata": {
  "language_info": {
   "name": "python"
  }
 },
 "nbformat": 4,
 "nbformat_minor": 2
}
